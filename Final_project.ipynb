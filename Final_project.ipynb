{
 "cells": [
  {
   "cell_type": "markdown",
   "id": "95c6610a",
   "metadata": {},
   "source": [
    "# Final AI Tools Project\n",
    "by Vinny and Jawadul"
   ]
  },
  {
   "cell_type": "code",
   "execution_count": 1,
   "id": "fa7b5cd0",
   "metadata": {},
   "outputs": [],
   "source": [
    "#Imports go here\n",
    "import pandas as pd\n",
    "import numpy as np\n",
    "from sklearn.model_selection import train_test_split\n",
    "from sklearn.neighbors import KNeighborsClassifier\n",
    "from sklearn.metrics import classification_report\n",
    "from sklearn.metrics import confusion_matrix\n",
    "import matplotlib.pyplot as plt\n",
    "from scipy.stats import zscore"
   ]
  },
  {
   "cell_type": "markdown",
   "id": "5da98cbd",
   "metadata": {},
   "source": [
    "# Data Collection\n",
    "The data that me and my partner are using is a dataset that shows different companies financial data and if they went bankrupt or not. This data came from kaggle and is mostly mostly numeric, with the status label being catagorical. There is also a column for the Company name, but this was not useful for the overall process."
   ]
  },
  {
   "cell_type": "markdown",
   "id": "415b3eb3",
   "metadata": {},
   "source": [
    "# KNN"
   ]
  },
  {
   "cell_type": "markdown",
   "id": "944d77a5",
   "metadata": {},
   "source": [
    "# Research Question\n",
    "How well can a KNN accuratly predict if a company will go bankrupt using only the current assests and the net sales of the company.\n",
    "\n",
    "# Hypothesis\n",
    "I believe that a Knn with a K of 5 and a distance measurement of euclidean will achieve at least 90% accuracy when evaluating the overall accuracy."
   ]
  },
  {
   "cell_type": "markdown",
   "id": "b18ed025",
   "metadata": {},
   "source": [
    "# Data Preprocessing\n",
    "Overall most of the data is numeric, and there are only 2 columns that are text based, and one that is catagorical data. The two text columns are the company name and year, and the catagorical feature is the status_label.\n",
    "\n",
    "There are no null values, so there is no need no do anything to replace them. We will use a box plot on the dataframe to she the amount of outliers on either side, and to fix the outliers We will use the Z-score standardization approach.\n",
    "\n",
    "We will also do One-Hot encoding on the status_label so that the KNN can read the status label"
   ]
  },
  {
   "cell_type": "markdown",
   "id": "d86b43b3",
   "metadata": {},
   "source": [
    "# Experiment Design\n",
    "We will split the data for the KNN using the train test split method, which uses the holdout method of data splitting.\n",
    "We will perform hyperparameter tuning by using a different range of k values and ploting them with their accuracies. We will do two graphs, one with euclidian distance, and one with cosine to decide the distance parameter. We will evaluate the accuracy of the model using the overall accuracy, since it is a good metric to judge the model, however The bigger class will have to be undersampled so that the class imbalance problem is fixed."
   ]
  },
  {
   "cell_type": "markdown",
   "id": "a4f63422",
   "metadata": {},
   "source": [
    "# Experiment begins here"
   ]
  },
  {
   "cell_type": "code",
   "execution_count": 2,
   "id": "89a376f3",
   "metadata": {},
   "outputs": [
    {
     "data": {
      "text/html": [
       "<div>\n",
       "<style scoped>\n",
       "    .dataframe tbody tr th:only-of-type {\n",
       "        vertical-align: middle;\n",
       "    }\n",
       "\n",
       "    .dataframe tbody tr th {\n",
       "        vertical-align: top;\n",
       "    }\n",
       "\n",
       "    .dataframe thead th {\n",
       "        text-align: right;\n",
       "    }\n",
       "</style>\n",
       "<table border=\"1\" class=\"dataframe\">\n",
       "  <thead>\n",
       "    <tr style=\"text-align: right;\">\n",
       "      <th></th>\n",
       "      <th>company_name</th>\n",
       "      <th>status_label</th>\n",
       "      <th>year</th>\n",
       "      <th>Current_assets</th>\n",
       "      <th>Cost_of_goods_sold</th>\n",
       "      <th>Depreciation_and_Amortization</th>\n",
       "      <th>Financial_Performance</th>\n",
       "      <th>Inventory</th>\n",
       "      <th>Net_Income</th>\n",
       "      <th>Total_Receivables</th>\n",
       "      <th>...</th>\n",
       "      <th>Net_Sales</th>\n",
       "      <th>Total_Assets</th>\n",
       "      <th>Total_longTerm_Debt</th>\n",
       "      <th>EBIT</th>\n",
       "      <th>Gross_profit</th>\n",
       "      <th>Current_Liabilities</th>\n",
       "      <th>Retained_Earnings</th>\n",
       "      <th>Total_Revenue</th>\n",
       "      <th>Total_Liabilities</th>\n",
       "      <th>Operation_Costs</th>\n",
       "    </tr>\n",
       "  </thead>\n",
       "  <tbody>\n",
       "    <tr>\n",
       "      <th>0</th>\n",
       "      <td>C_1</td>\n",
       "      <td>alive</td>\n",
       "      <td>1999</td>\n",
       "      <td>511.267</td>\n",
       "      <td>833.107</td>\n",
       "      <td>18.373</td>\n",
       "      <td>89.031</td>\n",
       "      <td>336.018</td>\n",
       "      <td>35.163</td>\n",
       "      <td>128.348</td>\n",
       "      <td>...</td>\n",
       "      <td>1024.333</td>\n",
       "      <td>740.998</td>\n",
       "      <td>180.447</td>\n",
       "      <td>70.658</td>\n",
       "      <td>191.226</td>\n",
       "      <td>163.816</td>\n",
       "      <td>201.026</td>\n",
       "      <td>1024.333</td>\n",
       "      <td>401.483</td>\n",
       "      <td>935.302</td>\n",
       "    </tr>\n",
       "    <tr>\n",
       "      <th>1</th>\n",
       "      <td>C_1</td>\n",
       "      <td>alive</td>\n",
       "      <td>2000</td>\n",
       "      <td>485.856</td>\n",
       "      <td>713.811</td>\n",
       "      <td>18.577</td>\n",
       "      <td>64.367</td>\n",
       "      <td>320.590</td>\n",
       "      <td>18.531</td>\n",
       "      <td>115.187</td>\n",
       "      <td>...</td>\n",
       "      <td>874.255</td>\n",
       "      <td>701.854</td>\n",
       "      <td>179.987</td>\n",
       "      <td>45.790</td>\n",
       "      <td>160.444</td>\n",
       "      <td>125.392</td>\n",
       "      <td>204.065</td>\n",
       "      <td>874.255</td>\n",
       "      <td>361.642</td>\n",
       "      <td>809.888</td>\n",
       "    </tr>\n",
       "    <tr>\n",
       "      <th>2</th>\n",
       "      <td>C_1</td>\n",
       "      <td>alive</td>\n",
       "      <td>2001</td>\n",
       "      <td>436.656</td>\n",
       "      <td>526.477</td>\n",
       "      <td>22.496</td>\n",
       "      <td>27.207</td>\n",
       "      <td>286.588</td>\n",
       "      <td>-58.939</td>\n",
       "      <td>77.528</td>\n",
       "      <td>...</td>\n",
       "      <td>638.721</td>\n",
       "      <td>710.199</td>\n",
       "      <td>217.699</td>\n",
       "      <td>4.711</td>\n",
       "      <td>112.244</td>\n",
       "      <td>150.464</td>\n",
       "      <td>139.603</td>\n",
       "      <td>638.721</td>\n",
       "      <td>399.964</td>\n",
       "      <td>611.514</td>\n",
       "    </tr>\n",
       "    <tr>\n",
       "      <th>3</th>\n",
       "      <td>C_1</td>\n",
       "      <td>alive</td>\n",
       "      <td>2002</td>\n",
       "      <td>396.412</td>\n",
       "      <td>496.747</td>\n",
       "      <td>27.172</td>\n",
       "      <td>30.745</td>\n",
       "      <td>259.954</td>\n",
       "      <td>-12.410</td>\n",
       "      <td>66.322</td>\n",
       "      <td>...</td>\n",
       "      <td>606.337</td>\n",
       "      <td>686.621</td>\n",
       "      <td>164.658</td>\n",
       "      <td>3.573</td>\n",
       "      <td>109.590</td>\n",
       "      <td>203.575</td>\n",
       "      <td>124.106</td>\n",
       "      <td>606.337</td>\n",
       "      <td>391.633</td>\n",
       "      <td>575.592</td>\n",
       "    </tr>\n",
       "    <tr>\n",
       "      <th>4</th>\n",
       "      <td>C_1</td>\n",
       "      <td>alive</td>\n",
       "      <td>2003</td>\n",
       "      <td>432.204</td>\n",
       "      <td>523.302</td>\n",
       "      <td>26.680</td>\n",
       "      <td>47.491</td>\n",
       "      <td>247.245</td>\n",
       "      <td>3.504</td>\n",
       "      <td>104.661</td>\n",
       "      <td>...</td>\n",
       "      <td>651.958</td>\n",
       "      <td>709.292</td>\n",
       "      <td>248.666</td>\n",
       "      <td>20.811</td>\n",
       "      <td>128.656</td>\n",
       "      <td>131.261</td>\n",
       "      <td>131.884</td>\n",
       "      <td>651.958</td>\n",
       "      <td>407.608</td>\n",
       "      <td>604.467</td>\n",
       "    </tr>\n",
       "  </tbody>\n",
       "</table>\n",
       "<p>5 rows × 21 columns</p>\n",
       "</div>"
      ],
      "text/plain": [
       "  company_name status_label  year  Current_assets  Cost_of_goods_sold  \\\n",
       "0          C_1        alive  1999         511.267             833.107   \n",
       "1          C_1        alive  2000         485.856             713.811   \n",
       "2          C_1        alive  2001         436.656             526.477   \n",
       "3          C_1        alive  2002         396.412             496.747   \n",
       "4          C_1        alive  2003         432.204             523.302   \n",
       "\n",
       "   Depreciation_and_Amortization  Financial_Performance  Inventory  \\\n",
       "0                         18.373                 89.031    336.018   \n",
       "1                         18.577                 64.367    320.590   \n",
       "2                         22.496                 27.207    286.588   \n",
       "3                         27.172                 30.745    259.954   \n",
       "4                         26.680                 47.491    247.245   \n",
       "\n",
       "   Net_Income  Total_Receivables  ...  Net_Sales  Total_Assets  \\\n",
       "0      35.163            128.348  ...   1024.333       740.998   \n",
       "1      18.531            115.187  ...    874.255       701.854   \n",
       "2     -58.939             77.528  ...    638.721       710.199   \n",
       "3     -12.410             66.322  ...    606.337       686.621   \n",
       "4       3.504            104.661  ...    651.958       709.292   \n",
       "\n",
       "   Total_longTerm_Debt    EBIT  Gross_profit  Current_Liabilities  \\\n",
       "0              180.447  70.658       191.226              163.816   \n",
       "1              179.987  45.790       160.444              125.392   \n",
       "2              217.699   4.711       112.244              150.464   \n",
       "3              164.658   3.573       109.590              203.575   \n",
       "4              248.666  20.811       128.656              131.261   \n",
       "\n",
       "   Retained_Earnings  Total_Revenue  Total_Liabilities  Operation_Costs  \n",
       "0            201.026       1024.333            401.483          935.302  \n",
       "1            204.065        874.255            361.642          809.888  \n",
       "2            139.603        638.721            399.964          611.514  \n",
       "3            124.106        606.337            391.633          575.592  \n",
       "4            131.884        651.958            407.608          604.467  \n",
       "\n",
       "[5 rows x 21 columns]"
      ]
     },
     "execution_count": 2,
     "metadata": {},
     "output_type": "execute_result"
    }
   ],
   "source": [
    "#Load the data\n",
    "df = pd.read_csv(\"american_bankruptcy.csv\")\n",
    "new_cols = {\"X1\":\"Current_assets\", 'X2': 'Cost_of_goods_sold', 'X3':'Depreciation_and_Amortization', 'X4': 'Financial_Performance', 'X5': 'Inventory', 'X6':'Net_Income','X7':'Total_Receivables','X8':'Market_Values','X9':'Net_Sales','X10':'Total_Assets','X11':'Total_longTerm_Debt','X12':'EBIT','X13':'Gross_profit','X14':'Current_Liabilities', 'X15':'Retained_Earnings','X16':'Total_Revenue','X17':'Total_Liabilities','X18':'Operation_Costs'}\n",
    "df.rename(columns = new_cols, inplace=True)\n",
    "df.head()"
   ]
  },
  {
   "cell_type": "code",
   "execution_count": null,
   "id": "6a667d26",
   "metadata": {},
   "outputs": [],
   "source": [
    "#Check for any null values\n",
    "df.info()"
   ]
  },
  {
   "cell_type": "code",
   "execution_count": null,
   "id": "de1464e2",
   "metadata": {},
   "outputs": [],
   "source": [
    "# check for outliers in the selected data for experimentation\n",
    "num_df = df[['Current_assets','Net_Sales']]\n",
    "num_df.head()\n",
    "num_df.boxplot()"
   ]
  },
  {
   "cell_type": "code",
   "execution_count": null,
   "id": "af6f743e",
   "metadata": {},
   "outputs": [],
   "source": [
    "#Standardize the data\n",
    "num_df = num_df.apply(zscore)\n",
    "num_df.head()"
   ]
  },
  {
   "cell_type": "code",
   "execution_count": null,
   "id": "504e7a40",
   "metadata": {},
   "outputs": [],
   "source": [
    "#Grab the labels and do one-hot-encoding\n",
    "labels = df['status_label'].apply(lambda x: 1 if x == 'alive' else (0 if x =='failed' else x))\n",
    "labels.value_counts()"
   ]
  },
  {
   "cell_type": "code",
   "execution_count": null,
   "id": "a2e25e7a",
   "metadata": {},
   "outputs": [],
   "source": [
    "num_df['labels'] = labels\n",
    "num_df.head()"
   ]
  },
  {
   "cell_type": "code",
   "execution_count": null,
   "id": "74864148",
   "metadata": {},
   "outputs": [],
   "source": [
    "# grab training data with the alive label\n",
    "alive_df = num_df[num_df['labels'] == 1]\n",
    "print(alive_df.head())\n",
    "failed_df = num_df[num_df['labels'] == 0]\n",
    "failed_df.head()"
   ]
  },
  {
   "cell_type": "code",
   "execution_count": null,
   "id": "723f5000",
   "metadata": {},
   "outputs": [],
   "source": [
    "print(alive_df.size)\n",
    "print(failed_df.size)"
   ]
  },
  {
   "cell_type": "code",
   "execution_count": null,
   "id": "a625f638",
   "metadata": {},
   "outputs": [],
   "source": [
    "alive_labels_df = num_df.sample(n = failed_df.size)\n",
    "alive_labels_df.head()\n",
    "final_df = pd.concat([alive_labels_df, failed_df], ignore_index = True)\n",
    "final_df.head()"
   ]
  },
  {
   "cell_type": "code",
   "execution_count": null,
   "id": "687f8e67",
   "metadata": {},
   "outputs": [],
   "source": [
    "# Split the labels from the final df and get the training and testing datasets\n",
    "labels = final_df['labels']\n",
    "final_df.head()\n",
    "final_df.drop(columns = ['labels'], inplace=True)\n",
    "X_train, X_test, y_train, y_test = train_test_split(final_df, labels, random_state = 42)"
   ]
  },
  {
   "cell_type": "code",
   "execution_count": null,
   "id": "3fe053c9",
   "metadata": {},
   "outputs": [],
   "source": [
    "#Run the model and do hyper parameter tuning.\n",
    "def run_knn_metrics(X_train, y_train, X_test, y_test, k=5, dm = 'euclidean'):\n",
    "    knn = KNeighborsClassifier(n_neighbors=k, metric = dm)\n",
    "    knn.fit(X_train, y_train)\n",
    "    training_acc = knn.score(X_train, y_train)\n",
    "    testing_acc = knn.score(X_test, y_test)\n",
    "    pred = knn.predict(X_test)\n",
    "    print(confusion_matrix(y_test, pred))\n",
    "    return training_acc, testing_acc"
   ]
  },
  {
   "cell_type": "code",
   "execution_count": null,
   "id": "ed6726c4",
   "metadata": {},
   "outputs": [],
   "source": [
    "k_values = range(1, 50, 1)\n",
    "training_accuracy_euclid = []\n",
    "testing_accuracy_euclid = []\n",
    "\n",
    "training_accuracy_cosine = []\n",
    "testing_accuracy_cosine = []\n",
    "\n",
    "for i in range(len(k_values)):\n",
    "    accs = run_knn_metrics(X_train, y_train, X_test, y_test, k = k_values[i], dm = 'euclidean')\n",
    "    training_accuracy_euclid.append(accs[0])\n",
    "    testing_accuracy_euclid.append(accs[1])\n",
    "    \n",
    "for i in range(len(k_values)):\n",
    "    accs = run_knn_metrics(X_train, y_train, X_test, y_test, k = k_values[i], dm = 'cosine')\n",
    "    training_accuracy_cosine.append(accs[0])\n",
    "    testing_accuracy_cosine.append(accs[1])"
   ]
  },
  {
   "cell_type": "code",
   "execution_count": null,
   "id": "2d24f9f1",
   "metadata": {},
   "outputs": [],
   "source": [
    "plt.plot(k_values, training_accuracy_euclid, testing_accuracy_euclid)\n",
    "plt.xlabel('K values')\n",
    "plt.ylabel('Training/Testing Accuracy')\n",
    "plt.title('Accuracy using Euclidian Distance')\n",
    "plt.show()\n",
    "\n",
    "plt.plot(k_values, training_accuracy_cosine, testing_accuracy_cosine)\n",
    "plt.xlabel('K values')\n",
    "plt.ylabel('Training/Testing Accuracy')\n",
    "plt.title('Accuracy using Cosine Distance')\n",
    "plt.show()"
   ]
  },
  {
   "cell_type": "code",
   "execution_count": null,
   "id": "562f1a26",
   "metadata": {},
   "outputs": [],
   "source": [
    "#final run with Chosen Parameters\n",
    "accs = run_knn_metrics(X_train, y_train, X_test, y_test, k = 45, dm = 'euclidean')\n",
    "print('Accuracy of K-NN classifier on training set: {:.2f}'\n",
    "         .format(accs[0]))\n",
    "print('Accuracy of K-NN classifier on test set: {:.2f}'\n",
    "         .format(accs[1]))"
   ]
  },
  {
   "cell_type": "markdown",
   "id": "000ec6a5",
   "metadata": {},
   "source": [
    "# Why We chose these parameters\n",
    "We chose these parameters as they were the best in terms of distance between the training and testing accuracy. However the accuracy values themselves are not very good."
   ]
  },
  {
   "cell_type": "markdown",
   "id": "1664df5a",
   "metadata": {},
   "source": [
    "# Conclusions\n",
    "It would seem that a KNN is not a good machine learning algorithm for predicting bankruptcy. The algorithm could not reach above a 70 on the training data. Some potential limitations are that there are many reasons behind why a company goes bankrupt, A potential change would be to use more of the features from the dataset instead of just two from the dataset. It may also be good to use a different type of accuracy such as sensitivity as even with undersampling, the overall accuracy is still not very good."
   ]
  },
  {
   "cell_type": "markdown",
   "id": "eccaa722",
   "metadata": {},
   "source": [
    "# K-Means "
   ]
  },
  {
   "cell_type": "markdown",
   "id": "9479d102",
   "metadata": {},
   "source": [
    "# Research question\n",
    "How well can a K means clustering algorithm group bankrupted and non bankrupted companies using the entire chosen data set.\n",
    "\n",
    "# Hypothesis \n",
    "We believe that the K means with a K value of 2, which matches the number of labels, will achive a 89% using metrics such as the homogeneity score."
   ]
  },
  {
   "cell_type": "markdown",
   "id": "a76ae20e",
   "metadata": {},
   "source": [
    "# Data Preprocessing\n",
    "The data preprocessing will be very similar to the KNN preprocessing, just using all of the numerical data rather than two specific columns. The standardization method we will use for K-means will be min max normalization to see if the method of standardization will have an affect on the accuracy. We will also use one-hot encoding to convert the status labels to either 0 or 1. We also will do undersampling to make sure that the dataset is even."
   ]
  },
  {
   "cell_type": "markdown",
   "id": "2ff5e8e9",
   "metadata": {},
   "source": [
    "# Experiment Design\n",
    "We will split the training data using the train test split method, which uses the holdout method. The hyperparameter tuning will involve us using the Silhouette Coefficient to find the optimal value for K. We chose this method since it combines both Between clusters sum of squares and Within clusters sum of squares. The accuracy we will be testing is the homogenuity score since we are experimenting to see how well the model can classify if a business went bankrupt or not."
   ]
  },
  {
   "cell_type": "markdown",
   "id": "42b10d1d",
   "metadata": {},
   "source": [
    "# Experiment starts here"
   ]
  },
  {
   "cell_type": "code",
   "execution_count": 3,
   "id": "9ff087d5",
   "metadata": {},
   "outputs": [],
   "source": [
    "# Since the outlier plot and the checking for null values was don for KNN, we will just more straight to the preprocessing\n",
    "df.drop('company_name', axis = 'columns', inplace=True)\n",
    "labels = df['status_label']\n",
    "df.drop(\"status_label\", axis = \"columns\",inplace = True)"
   ]
  },
  {
   "cell_type": "code",
   "execution_count": 4,
   "id": "1630df04",
   "metadata": {},
   "outputs": [],
   "source": [
    "min_max_df = df.apply(lambda x: (x - x.min()) / (x.max() - x.min()))"
   ]
  },
  {
   "cell_type": "code",
   "execution_count": 5,
   "id": "df9f5b32",
   "metadata": {},
   "outputs": [],
   "source": [
    "labels = labels.apply(lambda x: 1 if x == 'alive' else (0 if x =='failed' else x))"
   ]
  },
  {
   "cell_type": "code",
   "execution_count": 6,
   "id": "bb570783",
   "metadata": {},
   "outputs": [
    {
     "data": {
      "text/plain": [
       "status_label\n",
       "1    73462\n",
       "0     5220\n",
       "Name: count, dtype: int64"
      ]
     },
     "execution_count": 6,
     "metadata": {},
     "output_type": "execute_result"
    }
   ],
   "source": [
    "labels.value_counts()"
   ]
  },
  {
   "cell_type": "code",
   "execution_count": 7,
   "id": "a4ec411c",
   "metadata": {},
   "outputs": [],
   "source": [
    "min_max_df['labels'] = labels"
   ]
  },
  {
   "cell_type": "code",
   "execution_count": 8,
   "id": "1cfd7f7c",
   "metadata": {},
   "outputs": [],
   "source": [
    "min_max_df.drop('year', axis = 'columns', inplace=True)"
   ]
  },
  {
   "cell_type": "code",
   "execution_count": 9,
   "id": "66d3074b",
   "metadata": {},
   "outputs": [],
   "source": [
    "alive_min_max = min_max_df[min_max_df['labels'] == 1]\n",
    "failed_min_max = min_max_df[min_max_df['labels'] == 0]"
   ]
  },
  {
   "cell_type": "code",
   "execution_count": 12,
   "id": "8183b1f7",
   "metadata": {},
   "outputs": [
    {
     "name": "stdout",
     "output_type": "stream",
     "text": [
      "99180\n",
      "1494958\n"
     ]
    }
   ],
   "source": [
    "print(failed_min_max.size)\n",
    "print(min_max_df.size)"
   ]
  },
  {
   "cell_type": "code",
   "execution_count": 13,
   "id": "25d7f84f",
   "metadata": {},
   "outputs": [
    {
     "data": {
      "text/html": [
       "<div>\n",
       "<style scoped>\n",
       "    .dataframe tbody tr th:only-of-type {\n",
       "        vertical-align: middle;\n",
       "    }\n",
       "\n",
       "    .dataframe tbody tr th {\n",
       "        vertical-align: top;\n",
       "    }\n",
       "\n",
       "    .dataframe thead th {\n",
       "        text-align: right;\n",
       "    }\n",
       "</style>\n",
       "<table border=\"1\" class=\"dataframe\">\n",
       "  <thead>\n",
       "    <tr style=\"text-align: right;\">\n",
       "      <th></th>\n",
       "      <th>Current_assets</th>\n",
       "      <th>Cost_of_goods_sold</th>\n",
       "      <th>Depreciation_and_Amortization</th>\n",
       "      <th>Financial_Performance</th>\n",
       "      <th>Inventory</th>\n",
       "      <th>Net_Income</th>\n",
       "      <th>Total_Receivables</th>\n",
       "      <th>Market_Values</th>\n",
       "      <th>Net_Sales</th>\n",
       "      <th>Total_Assets</th>\n",
       "      <th>Total_longTerm_Debt</th>\n",
       "      <th>EBIT</th>\n",
       "      <th>Gross_profit</th>\n",
       "      <th>Current_Liabilities</th>\n",
       "      <th>Retained_Earnings</th>\n",
       "      <th>Total_Revenue</th>\n",
       "      <th>Total_Liabilities</th>\n",
       "      <th>Operation_Costs</th>\n",
       "      <th>labels</th>\n",
       "    </tr>\n",
       "  </thead>\n",
       "  <tbody>\n",
       "    <tr>\n",
       "      <th>0</th>\n",
       "      <td>0.000328</td>\n",
       "      <td>0.001082</td>\n",
       "      <td>0.000086</td>\n",
       "      <td>0.211541</td>\n",
       "      <td>0.000096</td>\n",
       "      <td>0.484985</td>\n",
       "      <td>0.000154</td>\n",
       "      <td>0.000013</td>\n",
       "      <td>0.003957</td>\n",
       "      <td>0.000207</td>\n",
       "      <td>1.383458e-07</td>\n",
       "      <td>0.266847</td>\n",
       "      <td>0.135931</td>\n",
       "      <td>0.000102</td>\n",
       "      <td>0.203052</td>\n",
       "      <td>0.003957</td>\n",
       "      <td>0.000035</td>\n",
       "      <td>0.000774</td>\n",
       "      <td>1</td>\n",
       "    </tr>\n",
       "    <tr>\n",
       "      <th>1</th>\n",
       "      <td>0.017798</td>\n",
       "      <td>0.003892</td>\n",
       "      <td>0.003342</td>\n",
       "      <td>0.215808</td>\n",
       "      <td>0.000975</td>\n",
       "      <td>0.486112</td>\n",
       "      <td>0.003024</td>\n",
       "      <td>0.015548</td>\n",
       "      <td>0.009570</td>\n",
       "      <td>0.008246</td>\n",
       "      <td>1.383458e-07</td>\n",
       "      <td>0.270447</td>\n",
       "      <td>0.147464</td>\n",
       "      <td>0.007436</td>\n",
       "      <td>0.207525</td>\n",
       "      <td>0.009570</td>\n",
       "      <td>0.002858</td>\n",
       "      <td>0.005840</td>\n",
       "      <td>1</td>\n",
       "    </tr>\n",
       "    <tr>\n",
       "      <th>2</th>\n",
       "      <td>0.000073</td>\n",
       "      <td>0.000986</td>\n",
       "      <td>0.000004</td>\n",
       "      <td>0.211387</td>\n",
       "      <td>0.000047</td>\n",
       "      <td>0.484934</td>\n",
       "      <td>0.000007</td>\n",
       "      <td>0.000012</td>\n",
       "      <td>0.003831</td>\n",
       "      <td>0.000009</td>\n",
       "      <td>1.383458e-07</td>\n",
       "      <td>0.266707</td>\n",
       "      <td>0.135751</td>\n",
       "      <td>0.000054</td>\n",
       "      <td>0.202670</td>\n",
       "      <td>0.003831</td>\n",
       "      <td>0.000026</td>\n",
       "      <td>0.000673</td>\n",
       "      <td>0</td>\n",
       "    </tr>\n",
       "    <tr>\n",
       "      <th>3</th>\n",
       "      <td>0.040418</td>\n",
       "      <td>0.024357</td>\n",
       "      <td>0.016743</td>\n",
       "      <td>0.234748</td>\n",
       "      <td>0.029169</td>\n",
       "      <td>0.495280</td>\n",
       "      <td>0.042773</td>\n",
       "      <td>0.029283</td>\n",
       "      <td>0.033824</td>\n",
       "      <td>0.033059</td>\n",
       "      <td>2.131743e-02</td>\n",
       "      <td>0.286732</td>\n",
       "      <td>0.177626</td>\n",
       "      <td>0.041723</td>\n",
       "      <td>0.227463</td>\n",
       "      <td>0.033824</td>\n",
       "      <td>0.036446</td>\n",
       "      <td>0.027620</td>\n",
       "      <td>1</td>\n",
       "    </tr>\n",
       "    <tr>\n",
       "      <th>4</th>\n",
       "      <td>0.000078</td>\n",
       "      <td>0.000984</td>\n",
       "      <td>0.000016</td>\n",
       "      <td>0.211382</td>\n",
       "      <td>0.000000</td>\n",
       "      <td>0.484927</td>\n",
       "      <td>0.000014</td>\n",
       "      <td>0.000002</td>\n",
       "      <td>0.003832</td>\n",
       "      <td>0.000013</td>\n",
       "      <td>1.383458e-07</td>\n",
       "      <td>0.266698</td>\n",
       "      <td>0.135760</td>\n",
       "      <td>0.000023</td>\n",
       "      <td>0.202878</td>\n",
       "      <td>0.003832</td>\n",
       "      <td>0.000008</td>\n",
       "      <td>0.000675</td>\n",
       "      <td>1</td>\n",
       "    </tr>\n",
       "  </tbody>\n",
       "</table>\n",
       "</div>"
      ],
      "text/plain": [
       "   Current_assets  Cost_of_goods_sold  Depreciation_and_Amortization  \\\n",
       "0        0.000328            0.001082                       0.000086   \n",
       "1        0.017798            0.003892                       0.003342   \n",
       "2        0.000073            0.000986                       0.000004   \n",
       "3        0.040418            0.024357                       0.016743   \n",
       "4        0.000078            0.000984                       0.000016   \n",
       "\n",
       "   Financial_Performance  Inventory  Net_Income  Total_Receivables  \\\n",
       "0               0.211541   0.000096    0.484985           0.000154   \n",
       "1               0.215808   0.000975    0.486112           0.003024   \n",
       "2               0.211387   0.000047    0.484934           0.000007   \n",
       "3               0.234748   0.029169    0.495280           0.042773   \n",
       "4               0.211382   0.000000    0.484927           0.000014   \n",
       "\n",
       "   Market_Values  Net_Sales  Total_Assets  Total_longTerm_Debt      EBIT  \\\n",
       "0       0.000013   0.003957      0.000207         1.383458e-07  0.266847   \n",
       "1       0.015548   0.009570      0.008246         1.383458e-07  0.270447   \n",
       "2       0.000012   0.003831      0.000009         1.383458e-07  0.266707   \n",
       "3       0.029283   0.033824      0.033059         2.131743e-02  0.286732   \n",
       "4       0.000002   0.003832      0.000013         1.383458e-07  0.266698   \n",
       "\n",
       "   Gross_profit  Current_Liabilities  Retained_Earnings  Total_Revenue  \\\n",
       "0      0.135931             0.000102           0.203052       0.003957   \n",
       "1      0.147464             0.007436           0.207525       0.009570   \n",
       "2      0.135751             0.000054           0.202670       0.003831   \n",
       "3      0.177626             0.041723           0.227463       0.033824   \n",
       "4      0.135760             0.000023           0.202878       0.003832   \n",
       "\n",
       "   Total_Liabilities  Operation_Costs  labels  \n",
       "0           0.000035         0.000774       1  \n",
       "1           0.002858         0.005840       1  \n",
       "2           0.000026         0.000673       0  \n",
       "3           0.036446         0.027620       1  \n",
       "4           0.000008         0.000675       1  "
      ]
     },
     "execution_count": 13,
     "metadata": {},
     "output_type": "execute_result"
    }
   ],
   "source": [
    "alive_min_max = min_max_df.sample(n = failed_min_max.size, replace = True)\n",
    "final_min_max = pd.concat([alive_min_max, failed_min_max], ignore_index = True)\n",
    "final_min_max.head()"
   ]
  },
  {
   "cell_type": "markdown",
   "id": "4ffb4585",
   "metadata": {},
   "source": [
    "# TODO Model and hyperparameter tuning and final observations"
   ]
  }
 ],
 "metadata": {
  "kernelspec": {
   "display_name": "Python 3 (ipykernel)",
   "language": "python",
   "name": "python3"
  },
  "language_info": {
   "codemirror_mode": {
    "name": "ipython",
    "version": 3
   },
   "file_extension": ".py",
   "mimetype": "text/x-python",
   "name": "python",
   "nbconvert_exporter": "python",
   "pygments_lexer": "ipython3",
   "version": "3.10.12"
  }
 },
 "nbformat": 4,
 "nbformat_minor": 5
}
